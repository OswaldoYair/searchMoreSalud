{
 "cells": [
  {
   "cell_type": "code",
   "execution_count": 49,
   "metadata": {},
   "outputs": [],
   "source": [
    "# Definición de funciones generales\n",
    "class Calculadora(object):\n",
    "    def suma(self, a, b):\n",
    "        return a + b\n",
    "    def resta(self, a, b):\n",
    "        return a - b \n",
    "    def multiplicacion(self, a, b):\n",
    "        return a * b\n",
    "    def divicion(self, a, b):\n",
    "        return a / b"
   ]
  },
  {
   "cell_type": "code",
   "execution_count": 52,
   "metadata": {},
   "outputs": [
    {
     "name": "stdout",
     "output_type": "stream",
     "text": [
      "15\n"
     ]
    }
   ],
   "source": [
    "# Suma\n",
    "calculadora = Calculadora()\n",
    "totalSuma = calculadora.suma(5, 15)\n",
    "print(totalSuma)"
   ]
  },
  {
   "cell_type": "code",
   "execution_count": 54,
   "metadata": {},
   "outputs": [
    {
     "name": "stdout",
     "output_type": "stream",
     "text": [
      "5\n"
     ]
    }
   ],
   "source": [
    "# Resta\n",
    "calculadora = Calculadora()\n",
    "totalResta = calculadora.resta(20, 15)\n",
    "print(totalResta)"
   ]
  },
  {
   "cell_type": "code",
   "execution_count": 55,
   "metadata": {},
   "outputs": [
    {
     "name": "stdout",
     "output_type": "stream",
     "text": [
      "15\n"
     ]
    }
   ],
   "source": [
    "# Multiplicacion\n",
    "calculadora = Calculadora()\n",
    "totalMultiplicacion = calculadora.multiplicacion(3, 5)\n",
    "print(totalMultiplicacion)"
   ]
  },
  {
   "cell_type": "code",
   "execution_count": 53,
   "metadata": {},
   "outputs": [
    {
     "name": "stdout",
     "output_type": "stream",
     "text": [
      "10.0\n"
     ]
    }
   ],
   "source": [
    "# Divicion\n",
    "calculadora = Calculadora()\n",
    "totalDivicion = calculadora.divicion(30, 3)\n",
    "print(totalDivicion)"
   ]
  }
 ],
 "metadata": {
  "kernelspec": {
   "display_name": "Python 3 (ipykernel)",
   "language": "python",
   "name": "python3"
  },
  "language_info": {
   "codemirror_mode": {
    "name": "ipython",
    "version": 3
   },
   "file_extension": ".py",
   "mimetype": "text/x-python",
   "name": "python",
   "nbconvert_exporter": "python",
   "pygments_lexer": "ipython3",
   "version": "3.11.3"
  }
 },
 "nbformat": 4,
 "nbformat_minor": 2
}
